{
 "cells": [
  {
   "cell_type": "code",
   "execution_count": 1,
   "metadata": {},
   "outputs": [
    {
     "data": {
      "text/plain": [
       "torch.Size([1, 512])"
      ]
     },
     "execution_count": 1,
     "metadata": {},
     "output_type": "execute_result"
    }
   ],
   "source": [
    "import torch.nn as nn\n",
    "import torch as th\n",
    "from guided_diffusion.nn import (\n",
    "    checkpoint,\n",
    "    conv_nd,\n",
    "    linear,\n",
    "    avg_pool_nd,\n",
    "    zero_module,\n",
    "    normalization,\n",
    "    timestep_embedding,\n",
    ")\n",
    "\n",
    "model_channels = 128\n",
    "time_embed_dim = 128 * 4\n",
    "\n",
    "t = th.tensor([500] * 1, device='cpu')\n",
    "time_embed = nn.Sequential(\n",
    "            linear(model_channels, time_embed_dim),\n",
    "            nn.SiLU(),\n",
    "            linear(time_embed_dim, time_embed_dim),\n",
    "        )\n",
    "\n",
    "emb = time_embed(timestep_embedding(timesteps= t, dim= 128))\n",
    "emb.shape"
   ]
  },
  {
   "cell_type": "code",
   "execution_count": 2,
   "metadata": {},
   "outputs": [
    {
     "name": "stdout",
     "output_type": "stream",
     "text": [
      "torch.Size([1, 2, 224, 224])\n"
     ]
    }
   ],
   "source": [
    "from guided_diffusion.mobileTrans import MobileViT\n",
    "from guided_diffusion import dist_util, logger\n",
    "\n",
    "model_cfg = {\n",
    "    \"s\":{\n",
    "        \"features\": [16, 32, 64, 64, 96, 96, 128, 128, 160, 160, 640],\n",
    "        \"d\": [144, 192, 240],\n",
    "        \"expansion_ratio\": 8,\n",
    "        \"layers\": [2, 3, 4],\n",
    "        \"input_channels\": 5,\n",
    "        \"output_channels\": 2\n",
    "    },\n",
    "}\n",
    "\n",
    "cfg_s = model_cfg[\"s\"]\n",
    "mobilleVIT_model = MobileViT(224, cfg_s[\"features\"], cfg_s[\"d\"], cfg_s[\"layers\"], cfg_s[\"expansion_ratio\"], output_channels=2)\n",
    "mobilleVIT_model.to(dist_util.dev())\n",
    "\n",
    "input = th.randn((1, 5 , 224, 224))\n",
    "tmpk = 200\n",
    "with th.no_grad():\n",
    "    mobilleVIT_model.eval()\n",
    "    output = mobilleVIT_model(input, time = tmpk)\n",
    "\n",
    "print(output.shape)"
   ]
  },
  {
   "cell_type": "code",
   "execution_count": null,
   "metadata": {},
   "outputs": [],
   "source": [
    "from guided_diffusion.unet import UNetModel, ResBlock\n",
    "model = UNetModel(\n",
    "            image_size=256,\n",
    "            in_channels=5,\n",
    "            model_channels=128,\n",
    "            out_channels=2, #(3 if not learn_sigma else 6),\n",
    "            num_res_blocks=2,\n",
    "            attention_resolutions=tuple([16]),\n",
    "            dropout=0.0,\n",
    "            channel_mult=(1, 1, 2, 2, 4, 4),\n",
    "            num_classes=None,\n",
    "            use_checkpoint=False,\n",
    "            use_fp16=False,\n",
    "            num_heads=1,\n",
    "            num_head_channels=-1,\n",
    "            num_heads_upsample=-1,\n",
    "            use_scale_shift_norm=False,\n",
    "            resblock_updown=False,\n",
    "            use_new_attention_order=False)\n",
    "        \n",
    "res_model = ResBlock(\n",
    "    channels= 128,\n",
    "    emb_channels= 128*4,\n",
    "    dropout= 0,\n",
    "    out_channels=1* 128,\n",
    "    dims= 2,\n",
    "    use_checkpoint=False,\n",
    "    use_scale_shift_norm=False\n",
    ")"
   ]
  },
  {
   "cell_type": "code",
   "execution_count": 1,
   "metadata": {},
   "outputs": [],
   "source": [
    "from guided_diffusion.mobileTrans import MobileViT\n",
    "from guided_diffusion.module import *\n",
    "import torch.nn as nn\n",
    "\n",
    "\n",
    "class STEM(nn.Module):\n",
    "    def __init__(self, input_channels, middle_channel, output_channels, expand_ratio):\n",
    "        super().__init__()\n",
    "        self.input_channels = input_channels\n",
    "        self.middle_channel = middle_channel\n",
    "        self.output_channels = output_channels\n",
    "        self.expand_ratio = expand_ratio\n",
    "\n",
    "        self.conv_layer = nn.Conv2d(in_channels=input_channels, out_channels=middle_channel, kernel_size=3, stride=2, padding=1)\n",
    "        self.Inverted = InvertedResidual(in_channels=middle_channel, out_channels=output_channels, stride=1, expand_ratio=expand_ratio)\n",
    "\n",
    "    def forward(self, x):\n",
    "        x = self.conv_layer(x)\n",
    "        x = self.Inverted(x)\n",
    "        return x\n",
    "\n",
    "\n",
    "stem = nn.Sequential(\n",
    "            nn.Conv2d(\n",
    "                in_channels=5, out_channels=16, kernel_size=3, stride=2, padding=1),\n",
    "            InvertedResidual(\n",
    "                in_channels=16, out_channels=32, stride=1, expand_ratio=8),\n",
    "        )"
   ]
  },
  {
   "cell_type": "code",
   "execution_count": 5,
   "metadata": {},
   "outputs": [
    {
     "name": "stdout",
     "output_type": "stream",
     "text": [
      "Sequential(\n",
      "  (0): Conv2d(5, 16, kernel_size=(3, 3), stride=(2, 2), padding=(1, 1))\n",
      "  (1): InvertedResidual(\n",
      "    (conv): Sequential(\n",
      "      (0): ConvNormAct(\n",
      "        (conv): Conv2d(16, 128, kernel_size=(1, 1), stride=(1, 1), bias=False)\n",
      "        (norm_layer): BatchNorm2d(128, eps=1e-05, momentum=0.1, affine=True, track_running_stats=True)\n",
      "      )\n",
      "      (1): ConvNormAct(\n",
      "        (conv): Conv2d(128, 128, kernel_size=(3, 3), stride=(1, 1), padding=(1, 1), groups=128, bias=False)\n",
      "        (norm_layer): BatchNorm2d(128, eps=1e-05, momentum=0.1, affine=True, track_running_stats=True)\n",
      "        (act): ReLU()\n",
      "      )\n",
      "      (2): Conv2d(128, 32, kernel_size=(1, 1), stride=(1, 1), bias=False)\n",
      "      (3): BatchNorm2d(32, eps=1e-05, momentum=0.1, affine=True, track_running_stats=True)\n",
      "    )\n",
      "  )\n",
      ")\n",
      "8608\n"
     ]
    }
   ],
   "source": [
    "tmp1 = STEM(input_channels=5, middle_channel=16, output_channels=32)\n",
    "\n",
    "print(stem)\n",
    "total_params1 = sum(param.numel() for param in stem.parameters())\n",
    "print(total_params1)"
   ]
  },
  {
   "cell_type": "code",
   "execution_count": 6,
   "metadata": {},
   "outputs": [
    {
     "name": "stdout",
     "output_type": "stream",
     "text": [
      "STEM(\n",
      "  (conv_layer): Conv2d(5, 16, kernel_size=(3, 3), stride=(2, 2), padding=(1, 1))\n",
      "  (Inverted): InvertedResidual(\n",
      "    (conv): Sequential(\n",
      "      (0): ConvNormAct(\n",
      "        (conv): Conv2d(16, 128, kernel_size=(1, 1), stride=(1, 1), bias=False)\n",
      "        (norm_layer): BatchNorm2d(128, eps=1e-05, momentum=0.1, affine=True, track_running_stats=True)\n",
      "      )\n",
      "      (1): ConvNormAct(\n",
      "        (conv): Conv2d(128, 128, kernel_size=(3, 3), stride=(1, 1), padding=(1, 1), groups=128, bias=False)\n",
      "        (norm_layer): BatchNorm2d(128, eps=1e-05, momentum=0.1, affine=True, track_running_stats=True)\n",
      "        (act): ReLU()\n",
      "      )\n",
      "      (2): Conv2d(128, 32, kernel_size=(1, 1), stride=(1, 1), bias=False)\n",
      "      (3): BatchNorm2d(32, eps=1e-05, momentum=0.1, affine=True, track_running_stats=True)\n",
      "    )\n",
      "  )\n",
      ")\n",
      "8608\n"
     ]
    }
   ],
   "source": [
    "print(tmp1)\n",
    "total_params2 = sum(param.numel() for param in tmp1.parameters())\n",
    "print(total_params2)"
   ]
  },
  {
   "cell_type": "code",
   "execution_count": null,
   "metadata": {},
   "outputs": [],
   "source": [
    "def forward(self, x, emb):\n",
    "        emb_out = self.emb_layers(emb).type(x.dtype)\n",
    "        while len(emb_out.shape) < len(x.shape):\n",
    "            emb_out = emb_out[..., None]\n",
    "        # print(\"Hi Your Number is\", y)\n",
    "        print(\"x shape\",x.shape)\n",
    "        print(\"emb_out shape\",emb_out.shape)\n",
    "        if self.use_res_connect:\n",
    "            return x + self.conv(x) + emb_out\n",
    "        else:\n",
    "            return self.conv(x) + emb_out"
   ]
  }
 ],
 "metadata": {
  "kernelspec": {
   "display_name": "tmp",
   "language": "python",
   "name": "python3"
  },
  "language_info": {
   "codemirror_mode": {
    "name": "ipython",
    "version": 3
   },
   "file_extension": ".py",
   "mimetype": "text/x-python",
   "name": "python",
   "nbconvert_exporter": "python",
   "pygments_lexer": "ipython3",
   "version": "3.11.5"
  }
 },
 "nbformat": 4,
 "nbformat_minor": 2
}
