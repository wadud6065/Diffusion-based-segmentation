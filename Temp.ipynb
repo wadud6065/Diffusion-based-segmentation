{
 "cells": [
  {
   "cell_type": "code",
   "execution_count": 24,
   "metadata": {},
   "outputs": [],
   "source": [
    "import sys\n",
    "import torch\n",
    "from torch.utils.data.dataset import Dataset\n",
    "from torchvision import transforms\n",
    "from PIL import Image\n",
    "import pandas as pd\n",
    "\n",
    "class MyLidcDatatset(Dataset):\n",
    "    def __init__(self, IMAGES_PATHS, MASK_PATHS, image_size=512):\n",
    "        \"\"\"\n",
    "        IMAGES_PATHS: list of images paths ['./..data_Image/Image/0001_NI000_slice000.png', \n",
    "        './..data_Image/Image/0001_NI000_slice001.png']\n",
    "\n",
    "        MASKS_PATHS: list of masks paths ['./..data_Image/Mask/0001_MA000_slice000.png',\n",
    "        './..data_Image/Mask/0001_MA000_slice001.png']\n",
    "        \"\"\"\n",
    "        self.image_paths = IMAGES_PATHS\n",
    "        self.mask_paths = MASK_PATHS\n",
    "        self.image_size = image_size\n",
    "        self.transformations = transforms.Compose([transforms.ToTensor()])\n",
    "\n",
    "    def transform(self, image, mask):\n",
    "        # output_image = Image.new(\"RGBA\", (self.image_size, self.image_size))\n",
    "        # output_image.paste(image, (0, 0))\n",
    "\n",
    "        mask = mask.convert('L')\n",
    "        image = image.convert('L')\n",
    "\n",
    "        # image = self.transformations(output_image)\n",
    "        # mask = self.transformations(mask)\n",
    "        to_tensor = transforms.ToTensor()\n",
    "        image = to_tensor(image)\n",
    "        mask = to_tensor(mask)\n",
    "\n",
    "        image = torch.cat((image,image,image,image), 0)\n",
    "\n",
    "        image, mask = image.type(torch.FloatTensor), mask.type(torch.FloatTensor)\n",
    "\n",
    "        return image, mask\n",
    "\n",
    "    def adjust_dimensions(self, image, mask):\n",
    "        if self.image_size == 512:\n",
    "            return image, mask\n",
    "        \n",
    "        # image resize to the shape\n",
    "        new_resolution = (self.image_size, self.image_size)\n",
    "        resized_image = image.resize(new_resolution, Image.Resampling.LANCZOS)\n",
    "        resized_mask = mask.resize(new_resolution, Image.Resampling.LANCZOS)\n",
    "        \n",
    "        return resized_image, resized_mask\n",
    "        \n",
    "\n",
    "    def __getitem__(self, index):\n",
    "        cnt_try = 0\n",
    "        # loop in case if there are any corrupted files\n",
    "        while cnt_try < 10 and index < self.__len__():\n",
    "            try:\n",
    "                image = Image.open(self.image_paths[index])\n",
    "                mask = Image.open(self.mask_paths[index])\n",
    "\n",
    "                image, mask = self.adjust_dimensions(image, mask)\n",
    "\n",
    "                image, mask = self.transform(image, mask)\n",
    "                return image, mask, self.image_paths[index], self.mask_paths[index]\n",
    "            \n",
    "            except Exception as e:\n",
    "                # if the image is corrupted, load the next image\n",
    "                print(\"Corrupted file: \",\n",
    "                      self.image_paths[index], '  |  ', sys.exc_info()[0])\n",
    "                print(e)\n",
    "                index += 1\n",
    "                cnt_try += 1\n",
    "        raise (\"Could not resolve Corrupted file: \",\n",
    "               self.image_paths[index], '  |  ', sys.exc_info()[0])\n",
    "\n",
    "    def __len__(self):\n",
    "        return len(self.image_paths)\n",
    "\n",
    "def load_LIDC(image_size=512, combine_train_val=False, mode='Train'):\n",
    "    # When the mode is Train, it'll load the dataset for training \n",
    "    # In case of mode being Test, it'll load the dataset for testing.\n",
    "    # The combine_train_val indicates if we want to add tran set and validation set.\n",
    "    # image_size will the resize the according to the python PIL image library.\n",
    "\n",
    "    # Directory of Image, Mask folder\n",
    "    IMAGE_DIR = './../data_Image/Image/'\n",
    "    MASK_DIR = './../data_Image/Mask/'\n",
    "    meta = pd.read_csv('./../data_Image/meta.csv')\n",
    "\n",
    "    meta['original_image'] = meta['original_image'].apply(lambda x: (IMAGE_DIR) + x + '.png')\n",
    "    meta['mask_image'] = meta['mask_image'].apply(lambda x: (MASK_DIR) + x + '.png')\n",
    "\n",
    "    train_meta = meta[meta['data_split'] == 'Train']\n",
    "    val_meta = meta[meta['data_split'] == 'Validation']\n",
    "\n",
    "    if mode == 'Test':\n",
    "        test_meta = meta[meta['data_split'] == 'Test']\n",
    "        test_image_paths = list(test_meta['original_image'])\n",
    "        test_mask_paths = list(test_meta['mask_image'])\n",
    "        ds = MyLidcDatatset(test_image_paths, test_mask_paths, image_size)\n",
    "        return ds\n",
    "    \n",
    "    # Get all *npy images into list for Train\n",
    "    train_image_paths = list(train_meta['original_image'])\n",
    "    train_mask_paths = list(train_meta['mask_image'])\n",
    "\n",
    "    # Get all *npy images into list for Validation\n",
    "    val_image_paths = list(val_meta['original_image'])\n",
    "    val_mask_paths = list(val_meta['mask_image'])\n",
    "\n",
    "    if combine_train_val:\n",
    "        train_image_paths.extend(val_image_paths)\n",
    "        train_mask_paths.extend(val_mask_paths)\n",
    "\n",
    "        print(\"*\"*50)\n",
    "        print(\"The lenght of image: {}, mask folders: {} for train\".format(\n",
    "            len(train_image_paths), len(train_mask_paths)))\n",
    "        print(\"*\"*50)\n",
    "\n",
    "        ds = MyLidcDatatset(train_image_paths, train_mask_paths, image_size)\n",
    "        return ds\n",
    "\n",
    "    # not combine train and val\n",
    "    print(\"*\"*50)\n",
    "    print(\"The lenght of image: {}, mask folders: {} for train\".format(\n",
    "        len(train_image_paths), len(train_mask_paths)))\n",
    "    print(\"The lenght of image: {}, mask folders: {} for validation\".format(\n",
    "        len(val_image_paths), len(val_mask_paths)))\n",
    "    print(\"Ratio between Val/ Train is {:2f}\".format(\n",
    "        len(val_image_paths)/len(train_image_paths)))\n",
    "    print(\"*\"*50)\n",
    "\n",
    "    # Create Dataset\n",
    "    train_dataset = MyLidcDatatset(train_image_paths, train_mask_paths, image_size)\n",
    "    val_dataset = MyLidcDatatset(val_image_paths, val_mask_paths, image_size)\n",
    "    # test_dataset = MyLidcDataset(test_image_paths, test_mask_paths)\n",
    "\n",
    "    return train_dataset, val_dataset"
   ]
  },
  {
   "cell_type": "code",
   "execution_count": 25,
   "metadata": {},
   "outputs": [
    {
     "name": "stdout",
     "output_type": "stream",
     "text": [
      "**************************************************\n",
      "The lenght of image: 2116, mask folders: 2116 for train\n",
      "**************************************************\n",
      "torch.Size([1, 4, 224, 224])\n",
      "torch.Size([1, 1, 224, 224])\n"
     ]
    }
   ],
   "source": [
    "ds = load_LIDC(image_size=224, combine_train_val=True, mode='Train')\n",
    "\n",
    "datal = torch.utils.data.DataLoader(\n",
    "        ds,\n",
    "        batch_size=1,\n",
    "        shuffle=True)\n",
    "\n",
    "data = iter(datal)\n",
    "image, label, image_path = next(data)\n",
    "\n",
    "print(image.shape)\n",
    "print(label.shape)"
   ]
  },
  {
   "cell_type": "code",
   "execution_count": 26,
   "metadata": {},
   "outputs": [
    {
     "name": "stdout",
     "output_type": "stream",
     "text": [
      "('./../data_Image/Image/0311_NI000_slice019.png',)\n"
     ]
    },
    {
     "data": {
      "image/png": "[encoded data removed]",
      "text/plain": [
       "<Figure size 640x480 with 1 Axes>"
      ]
     },
     "metadata": {},
     "output_type": "display_data"
    }
   ],
   "source": [
    "import matplotlib.pyplot as plt\n",
    "\n",
    "to_pil = transforms.ToPILImage()\n",
    "\n",
    "# Convert the tensor to a PIL Image\n",
    "image = to_pil(image[0])\n",
    "print(image_path)\n",
    "# print(mask_path[0])\n",
    "# Display the image using Matplotlib\n",
    "plt.imshow(image)\n",
    "plt.axis('off')  # Turn off axis labels\n",
    "plt.show()\n"
   ]
  },
  {
   "cell_type": "code",
   "execution_count": 23,
   "metadata": {},
   "outputs": [
    {
     "name": "stdout",
     "output_type": "stream",
     "text": [
      "('./../data_Image/Image/0454_NI001_slice007.png',)\n"
     ]
    },
    {
     "data": {
      "image/png": "[encoded data removed]",
      "text/plain": [
       "<Figure size 640x480 with 1 Axes>"
      ]
     },
     "metadata": {},
     "output_type": "display_data"
    }
   ],
   "source": [
    "import matplotlib.pyplot as plt\n",
    "\n",
    "to_pil = transforms.ToPILImage()\n",
    "\n",
    "# Convert the tensor to a PIL Image\n",
    "image = to_pil(label[0])\n",
    "print(image_path)\n",
    "# print(mask_path[0])\n",
    "# Display the image using Matplotlib\n",
    "plt.imshow(image)\n",
    "plt.axis('off')  # Turn off axis labels\n",
    "plt.show()\n"
   ]
  },
  {
   "cell_type": "code",
   "execution_count": null,
   "metadata": {},
   "outputs": [],
   "source": []
  }
 ],
 "metadata": {
  "kernelspec": {
   "display_name": "tmp",
   "language": "python",
   "name": "python3"
  },
  "language_info": {
   "codemirror_mode": {
    "name": "ipython",
    "version": 3
   },
   "file_extension": ".py",
   "mimetype": "text/x-python",
   "name": "python",
   "nbconvert_exporter": "python",
   "pygments_lexer": "ipython3",
   "version": "3.11.5"
  }
 },
 "nbformat": 4,
 "nbformat_minor": 2
}
